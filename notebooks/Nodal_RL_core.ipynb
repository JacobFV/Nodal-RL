{
  "nbformat": 4,
  "nbformat_minor": 0,
  "metadata": {
    "colab": {
      "name": "Nodal RL core.ipynb",
      "provenance": [],
      "collapsed_sections": [],
      "authorship_tag": "ABX9TyPZdmxyqEAjoQbH17fXsq9p",
      "include_colab_link": true
    },
    "kernelspec": {
      "name": "python3",
      "display_name": "Python 3"
    }
  },
  "cells": [
    {
      "cell_type": "markdown",
      "metadata": {
        "id": "view-in-github",
        "colab_type": "text"
      },
      "source": [
        "<a href=\"https://colab.research.google.com/github/JacobFV/Nodal-RL/blob/master/notebooks/Nodal_RL_core.ipynb\" target=\"_parent\"><img src=\"https://colab.research.google.com/assets/colab-badge.svg\" alt=\"Open In Colab\"/></a>"
      ]
    },
    {
      "cell_type": "code",
      "metadata": {
        "id": "h3EkKhQB-RVw",
        "colab_type": "code",
        "colab": {}
      },
      "source": [
        "class Node:\n",
        "\n",
        "    \"\"\"\n",
        "    data for each parent node\n",
        "    Dict<Node, Dict<str, number>>\n",
        "    \n",
        "    usage: [Node][\"property\"] = value\n",
        "\n",
        "    properties:\n",
        "        - otarget weight: 'wotarget' -> number\n",
        "        - recency otarget weight decay factor: 'o_target_lambda' -> number\n",
        "    \"\"\"\n",
        "    self.parent_biasing_params\n",
        "    \n",
        "    \"\"\"\n",
        "    actual observations used to parents\n",
        "\n",
        "    NOTE: the parent may have more observations\n",
        "        in its `s` records that are not used by\n",
        "        `self` because they are at a finer timescale \n",
        "\n",
        "    dict<Node, dict<number,target observation>>\n",
        "    \"\"\"\n",
        "    self.parent_o\n",
        "    \n",
        "    \"\"\"\n",
        "    biasing target observations delivered to parents\n",
        "\n",
        "    dict<Node, dict<number,target observation>>\n",
        "    \"\"\"\n",
        "    self.parent_otarget\n",
        "\n",
        "    \"\"\"\n",
        "    top down biasing target observations obeyed from children\n",
        "\n",
        "    dict<Node, dict<number,target observation>>\n",
        "    \"\"\"\n",
        "    self.child_otarget\n",
        "\n",
        "    self.p #period for timesteps\n",
        "\n",
        "    \"\"\"\n",
        "    record of states for each timestep\n",
        "    referenced by children \n",
        "    \n",
        "    Dict<number, state>\n",
        "    \"\"\"\n",
        "    self.s\n",
        "\n",
        "\n",
        "    def update():\n",
        "        \"\"\"\n",
        "        update node's internal variables at time intervals `self.p`\n",
        "\n",
        "        :return: None\n",
        "        \"\"\"\n",
        "        pass\n",
        "\n",
        "    def child_obs_target_weighted_mean():\n",
        "        \"\"\"\n",
        "        computes weighted mean of child nodes' target observations for `self.s`\n",
        "        used by actuators and information nodes\n",
        "\n",
        "        :return: top down biasing target state  \n",
        "        \"\"\"\n",
        "        pass\n",
        "\n",
        "    def get_information_episode() -> Information_Episode:\n",
        "        \"\"\"\n",
        "        get data for training later\n",
        "        \n",
        "        :return: `Information_Episode` for `self`\n",
        "        \"\"\"\n",
        "        pass\n",
        "\n",
        "    def forget_episode():\n",
        "        \"\"\"\n",
        "        resets all inference stateful variables\n",
        "        including observations and internal states\n",
        "\n",
        "        WARNING: wait until all immediate parent/child nodes\n",
        "        have save their `Information_Episode`s prior to `forget_episode`\n",
        "\n",
        "        :return: None\n",
        "        \"\"\"\n",
        "        #TODO: clear `child_otarget`, `parent otarget`, `parent_o`, and `s` lists\n",
        "        raise NotImplementedError() "
      ],
      "execution_count": 0,
      "outputs": []
    },
    {
      "cell_type": "code",
      "metadata": {
        "id": "cLGvvSR2-aeF",
        "colab_type": "code",
        "colab": {}
      },
      "source": [
        "class Sensory_Node(Node):\n",
        "\n",
        "    def update():\n",
        "        raise NotImplimentedError()"
      ],
      "execution_count": 0,
      "outputs": []
    },
    {
      "cell_type": "code",
      "metadata": {
        "id": "wbAGtvlK-cHd",
        "colab_type": "code",
        "colab": {}
      },
      "source": [
        "class Actuator_Node(Node):\n",
        "\n",
        "    def update():\n",
        "        raise NotImplimentedError()"
      ],
      "execution_count": 0,
      "outputs": []
    },
    {
      "cell_type": "code",
      "metadata": {
        "id": "il4MJ571-eYs",
        "colab_type": "code",
        "colab": {}
      },
      "source": [
        "class Information_Node(Node):\n",
        "\n",
        "    self.params = {\n",
        "        \"pred-weight\":None,\n",
        "        \"alpha-d1\":None,\n",
        "        \"alpha-d2\":None,\n",
        "        \"alpha-d3\":None\n",
        "    }\n",
        "\n",
        "    def update():\n",
        "        pass\n",
        "\n",
        "    def train(information_episode: Information_Episode = None,\n",
        "              lr_coefficents = {\n",
        "                  \"beta_pi,D\": None,\n",
        "                  \"beta_pi,C\": None,\n",
        "                  \"beta_pi,I\": None,\n",
        "                  \"beta_pr,D\": None,\n",
        "                  \"beta_pr,C\": None,\n",
        "              },\n",
        "              h_params = {\n",
        "                  \"lr\": 0.001,\n",
        "                  \"verbose\": True\n",
        "              }):\n",
        "        \"\"\"\n",
        "        trains `Information_Node` to model `information_episode`.\n",
        "        This function must be called from an information node\n",
        "        initialized as it would be in its network with appropriate\n",
        "        parent and child nodes connected, though episode data does\n",
        "        not need to be loaded\n",
        "\n",
        "        args:\n",
        "        information_episode: If no Information_Episode is provided,\n",
        "        data is taken from `self.child_otarget` and `self.parent_o`.\n",
        "        \"\"\"\n",
        "\n",
        "        if information_episode is None:\n",
        "            # create `information_episode` from actual neighors \n",
        "        pass"
      ],
      "execution_count": 0,
      "outputs": []
    },
    {
      "cell_type": "code",
      "metadata": {
        "id": "rjlYu9vI_aQ2",
        "colab_type": "code",
        "colab": {}
      },
      "source": [
        "class InformationEpisode:\n",
        "    self.o\n",
        "    self.parents #dictionary of parents and target "
      ],
      "execution_count": 0,
      "outputs": []
    }
  ]
}